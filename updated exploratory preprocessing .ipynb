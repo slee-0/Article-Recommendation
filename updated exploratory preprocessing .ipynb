{
 "cells": [
  {
   "cell_type": "code",
   "execution_count": 39,
   "id": "395819b9",
   "metadata": {},
   "outputs": [],
   "source": [
    "iteractions_data = pd.read_csv('/Users/kaileyfitzgerald/Desktop/ML and Data Sci/final projrct/interactions_small.csv', index_col=0)\n",
    "book_data = pd.read_csv('/Users/kaileyfitzgerald/Desktop/ML and Data Sci/final projrct/book_metadata.csv', index_col=0)"
   ]
  },
  {
   "cell_type": "code",
   "execution_count": 40,
   "id": "4b8ec06a",
   "metadata": {},
   "outputs": [
    {
     "name": "stdout",
     "output_type": "stream",
     "text": [
      "       Unnamed: 0                           user_id   book_id  \\\n",
      "0               0  8842281e1d1347389f2ab93d60773d4d      1384   \n",
      "1               1  8842281e1d1347389f2ab93d60773d4d      1376   \n",
      "2               2  8842281e1d1347389f2ab93d60773d4d     30119   \n",
      "3               3  72fb0d0087d28c832f15776b0d936598  24769928   \n",
      "4               4  72fb0d0087d28c832f15776b0d936598     30119   \n",
      "...           ...                               ...       ...   \n",
      "19995       19995  f494686846829793fbba64a10dae2d04      1715   \n",
      "19996       19996  f494686846829793fbba64a10dae2d04     12914   \n",
      "19997       19997  f494686846829793fbba64a10dae2d04      2696   \n",
      "19998       19998  f494686846829793fbba64a10dae2d04     15997   \n",
      "19999       19999  f494686846829793fbba64a10dae2d04     22221   \n",
      "\n",
      "                              review_id  is_read  rating  \\\n",
      "0      1bad0122cebb4aa9213f9fe1aa281f66     True       4   \n",
      "1      eb6e502d0c04d57b43a5a02c21b64ab4     True       4   \n",
      "2      787564bef16cb1f43e0f641ab59d25b7     True       5   \n",
      "3      8c80ee74743d4b3b123dd1a2e0c0bcac    False       0   \n",
      "4      2a83589fb597309934ec9b1db5876aaf     True       3   \n",
      "...                                 ...      ...     ...   \n",
      "19995  f49c30f8621f89b7c73a026c4189f92c     True       0   \n",
      "19996  446a3dc084e8e3d593e63d89dcadcb15     True       5   \n",
      "19997  bcf08f467b2dbd290ff1fc3b611f61c7    False       0   \n",
      "19998  ec1c219e3645863edbb08756de4aef76    False       0   \n",
      "19999  66d97b717274748043202da3ea1735a0    False       0   \n",
      "\n",
      "      review_text_incomplete                      date_added  \\\n",
      "0                        NaN  Wed May 09 09:33:44 -0700 2007   \n",
      "1                        NaN  Wed May 09 09:33:18 -0700 2007   \n",
      "2                        NaN  Sat Jan 13 13:44:20 -0800 2007   \n",
      "3                        NaN  Wed Apr 27 11:05:51 -0700 2016   \n",
      "4                        NaN  Mon Jun 04 18:58:08 -0700 2012   \n",
      "...                      ...                             ...   \n",
      "19995                    NaN  Thu Nov 28 12:03:43 -0800 2013   \n",
      "19996      Review to follow.  Thu Nov 28 12:01:25 -0800 2013   \n",
      "19997                    NaN  Thu Nov 28 11:59:30 -0800 2013   \n",
      "19998                    NaN  Thu Nov 28 11:59:18 -0800 2013   \n",
      "19999                    NaN  Mon Jul 08 13:18:49 -0700 2013   \n",
      "\n",
      "                         date_updated                         read_at  \\\n",
      "0      Wed May 09 09:33:44 -0700 2007                             NaN   \n",
      "1      Wed May 09 09:33:18 -0700 2007                             NaN   \n",
      "2      Wed Mar 22 11:45:08 -0700 2017  Tue Mar 01 00:00:00 -0800 1983   \n",
      "3      Wed Apr 27 11:05:52 -0700 2016                             NaN   \n",
      "4      Mon Jun 04 18:58:13 -0700 2012                             NaN   \n",
      "...                               ...                             ...   \n",
      "19995  Thu Jul 09 11:57:05 -0700 2015                             NaN   \n",
      "19996  Tue Sep 08 12:45:51 -0700 2015  Sun Jul 05 16:32:34 -0700 2015   \n",
      "19997  Thu Nov 28 11:59:30 -0800 2013                             NaN   \n",
      "19998  Thu Nov 28 11:59:18 -0800 2013                             NaN   \n",
      "19999  Mon Jul 08 13:18:57 -0700 2013                             NaN   \n",
      "\n",
      "                           started_at  \n",
      "0                                 NaN  \n",
      "1                                 NaN  \n",
      "2                                 NaN  \n",
      "3                                 NaN  \n",
      "4                                 NaN  \n",
      "...                               ...  \n",
      "19995  Sat Jul 04 05:12:44 -0700 2015  \n",
      "19996  Tue Jun 23 00:00:00 -0700 2015  \n",
      "19997                             NaN  \n",
      "19998                             NaN  \n",
      "19999                             NaN  \n",
      "\n",
      "[20000 rows x 11 columns]\n"
     ]
    }
   ],
   "source": [
    "import pandas as pd\n",
    "\n",
    "# Read the CSV file\n",
    "file_path = '/Users/kaileyfitzgerald/Desktop/ML and Data Sci/final projrct/interactions_small.csv'  # Replace 'your_file.csv' with the path to your CSV file\n",
    "data = pd.read_csv(file_path)\n",
    "\n",
    "# Display the contents in a table format\n",
    "print(data)\n"
   ]
  },
  {
   "cell_type": "code",
   "execution_count": 41,
   "id": "b2f5d1bd",
   "metadata": {},
   "outputs": [
    {
     "name": "stdout",
     "output_type": "stream",
     "text": [
      "Column Names:\n",
      "['', 'user_id', 'book_id', 'review_id', 'is_read', 'rating', 'review_text_incomplete', 'date_added', 'date_updated', 'read_at', 'started_at']\n"
     ]
    }
   ],
   "source": [
    "import csv\n",
    "\n",
    "# Read the CSV file\n",
    "file_path = '/Users/kaileyfitzgerald/Desktop/ML and Data Sci/final projrct/interactions_small.csv'  # Replace 'your_file.csv' with the path to your CSV file\n",
    "with open(file_path, 'r') as file:\n",
    "    csv_reader = csv.reader(file)\n",
    "    # Get the column names from the first row\n",
    "    column_names = next(csv_reader)\n",
    "\n",
    "# Display the column names\n",
    "print(\"Column Names:\")\n",
    "print(column_names)"
   ]
  },
  {
   "cell_type": "code",
   "execution_count": 42,
   "id": "a9e6a1a5",
   "metadata": {},
   "outputs": [],
   "source": [
    "columns_to_remove = ['review_text_incomplete', 'date_added', 'date_updated', 'read_at', 'started_at']  # Replace with the names of columns you want to remove\n",
    "\n",
    "# Drop the specified columns\n",
    "data = data.drop(columns=columns_to_remove)\n",
    "\n",
    "# Save the modified data to a new CSV file\n",
    "output_file_path = 'modified_file.csv'  # Replace 'modified_file.csv' with your desired output file name\n",
    "data.to_csv(output_file_path, index=False)"
   ]
  },
  {
   "cell_type": "code",
   "execution_count": 43,
   "id": "50b38271",
   "metadata": {},
   "outputs": [
    {
     "name": "stdout",
     "output_type": "stream",
     "text": [
      "       Unnamed: 0                           user_id   book_id  \\\n",
      "0               0  8842281e1d1347389f2ab93d60773d4d      1384   \n",
      "1               1  8842281e1d1347389f2ab93d60773d4d      1376   \n",
      "2               2  8842281e1d1347389f2ab93d60773d4d     30119   \n",
      "3               3  72fb0d0087d28c832f15776b0d936598  24769928   \n",
      "4               4  72fb0d0087d28c832f15776b0d936598     30119   \n",
      "...           ...                               ...       ...   \n",
      "19995       19995  f494686846829793fbba64a10dae2d04      1715   \n",
      "19996       19996  f494686846829793fbba64a10dae2d04     12914   \n",
      "19997       19997  f494686846829793fbba64a10dae2d04      2696   \n",
      "19998       19998  f494686846829793fbba64a10dae2d04     15997   \n",
      "19999       19999  f494686846829793fbba64a10dae2d04     22221   \n",
      "\n",
      "                              review_id  is_read  rating  \n",
      "0      1bad0122cebb4aa9213f9fe1aa281f66     True       4  \n",
      "1      eb6e502d0c04d57b43a5a02c21b64ab4     True       4  \n",
      "2      787564bef16cb1f43e0f641ab59d25b7     True       5  \n",
      "3      8c80ee74743d4b3b123dd1a2e0c0bcac    False       0  \n",
      "4      2a83589fb597309934ec9b1db5876aaf     True       3  \n",
      "...                                 ...      ...     ...  \n",
      "19995  f49c30f8621f89b7c73a026c4189f92c     True       0  \n",
      "19996  446a3dc084e8e3d593e63d89dcadcb15     True       5  \n",
      "19997  bcf08f467b2dbd290ff1fc3b611f61c7    False       0  \n",
      "19998  ec1c219e3645863edbb08756de4aef76    False       0  \n",
      "19999  66d97b717274748043202da3ea1735a0    False       0  \n",
      "\n",
      "[20000 rows x 6 columns]\n"
     ]
    }
   ],
   "source": [
    "import pandas as pd\n",
    "\n",
    "# Read the CSV file\n",
    "file_path = '/Users/kaileyfitzgerald/Desktop/ML and Data Sci/final projrct/modified_file.csv'  # Replace 'your_file.csv' with the path to your CSV file\n",
    "data = pd.read_csv(file_path)\n",
    "\n",
    "# Display the contents in a table format\n",
    "print(data)\n",
    "\n"
   ]
  },
  {
   "cell_type": "code",
   "execution_count": 44,
   "id": "556955e1",
   "metadata": {},
   "outputs": [
    {
     "name": "stdout",
     "output_type": "stream",
     "text": [
      "10241\n"
     ]
    }
   ],
   "source": [
    "j=0\n",
    "k=0\n",
    "for i in data['is_read']:\n",
    "    if i == True:\n",
    "        j+=1\n",
    "    else:\n",
    "        k+=1\n",
    "print(j)"
   ]
  },
  {
   "cell_type": "code",
   "execution_count": 45,
   "id": "85b250f9",
   "metadata": {},
   "outputs": [
    {
     "data": {
      "image/png": "[encoded data removed]",
      "text/plain": [
       "<Figure size 432x288 with 1 Axes>"
      ]
     },
     "metadata": {
      "needs_background": "light"
     },
     "output_type": "display_data"
    }
   ],
   "source": [
    "import matplotlib.pyplot as plt\n",
    "\n",
    "# Sample data (replace this with your data)\n",
    "categories = ['Books that were read', 'books that were not read']\n",
    "values = [j,k]  # Corresponding values for each category\n",
    "\n",
    "# Plotting the bar graph\n",
    "plt.bar(categories, values)\n",
    "\n",
    "# Adding labels and title\n",
    "plt.xlabel('')\n",
    "plt.ylabel('')\n",
    "plt.title('Books read vs. not read')\n",
    "\n",
    "# Show the plot\n",
    "plt.tight_layout()\n",
    "plt.show()"
   ]
  },
  {
   "cell_type": "code",
   "execution_count": 46,
   "id": "7fe565c6",
   "metadata": {},
   "outputs": [],
   "source": [
    "# Define the column name you want to check for 'False'\n",
    "column_to_check = 'is_read'  # Replace 'Column_Name' with the name of the column you want to check\n",
    "\n",
    "# Filter the DataFrame to exclude rows where the condition is met (value is False)\n",
    "filtered_data = data[data[column_to_check] != False]\n",
    "\n",
    "# Save the modified data to a new CSV file\n",
    "output_file_path = 'filtered_file.csv'  # Replace 'modified_file.csv' with your desired output file name\n",
    "filtered_data.to_csv(output_file_path, index=False)\n"
   ]
  },
  {
   "cell_type": "code",
   "execution_count": 47,
   "id": "6ba3b61a",
   "metadata": {},
   "outputs": [
    {
     "name": "stdout",
     "output_type": "stream",
     "text": [
      "       Unnamed: 0                           user_id   book_id  \\\n",
      "0               0  8842281e1d1347389f2ab93d60773d4d      1384   \n",
      "1               1  8842281e1d1347389f2ab93d60773d4d      1376   \n",
      "2               2  8842281e1d1347389f2ab93d60773d4d     30119   \n",
      "3               4  72fb0d0087d28c832f15776b0d936598     30119   \n",
      "4               5  ab2923b738ea3082f5f3efcbbfacb218    240007   \n",
      "...           ...                               ...       ...   \n",
      "10236       19982  f494686846829793fbba64a10dae2d04  19016323   \n",
      "10237       19983  f494686846829793fbba64a10dae2d04   1595454   \n",
      "10238       19994  f494686846829793fbba64a10dae2d04     23919   \n",
      "10239       19995  f494686846829793fbba64a10dae2d04      1715   \n",
      "10240       19996  f494686846829793fbba64a10dae2d04     12914   \n",
      "\n",
      "                              review_id  is_read  rating  \n",
      "0      1bad0122cebb4aa9213f9fe1aa281f66     True       4  \n",
      "1      eb6e502d0c04d57b43a5a02c21b64ab4     True       4  \n",
      "2      787564bef16cb1f43e0f641ab59d25b7     True       5  \n",
      "3      2a83589fb597309934ec9b1db5876aaf     True       3  \n",
      "4      149b57966342c0c99eb8ec234acb7cdb     True       4  \n",
      "...                                 ...      ...     ...  \n",
      "10236  b573d931d4c459ebeff39a965da19a5c     True       2  \n",
      "10237  3cec96c1d97089839f73abfc4698caa5     True       5  \n",
      "10238  c861ef5de2a71014751bf2be7483a1f8     True       4  \n",
      "10239  f49c30f8621f89b7c73a026c4189f92c     True       0  \n",
      "10240  446a3dc084e8e3d593e63d89dcadcb15     True       5  \n",
      "\n",
      "[10241 rows x 6 columns]\n"
     ]
    }
   ],
   "source": [
    "import pandas as pd\n",
    "\n",
    "# Read the CSV file\n",
    "file_path = '/Users/kaileyfitzgerald/Desktop/ML and Data Sci/final projrct/filtered_file.csv'  # Replace 'your_file.csv' with the path to your CSV file\n",
    "data = pd.read_csv(file_path)\n",
    "\n",
    "# Display the contents in a table format\n",
    "print(data)\n"
   ]
  },
  {
   "cell_type": "code",
   "execution_count": 48,
   "id": "5e7e9857",
   "metadata": {},
   "outputs": [
    {
     "data": {
      "image/png": "[encoded data removed]",
      "text/plain": [
       "<Figure size 432x288 with 1 Axes>"
      ]
     },
     "metadata": {
      "needs_background": "light"
     },
     "output_type": "display_data"
    }
   ],
   "source": [
    "a=0\n",
    "b=0\n",
    "c=0\n",
    "d=0\n",
    "e=0\n",
    "f=0\n",
    "for i in data['rating']:\n",
    "    if i == 0:\n",
    "        a+=1\n",
    "    elif i==1:\n",
    "        b+=1\n",
    "    elif i==2:\n",
    "        c+=1\n",
    "    elif i==3:\n",
    "        d+=1\n",
    "    elif i==4:\n",
    "        e+=1\n",
    "    else:\n",
    "        f+=1\n",
    "import matplotlib.pyplot as plt\n",
    "\n",
    "# Sample data (replace this with your data)\n",
    "categories = ['0 Rating', '1 Rating', '2 Rating', '3 Rating','4 Rating', '5 Rating']\n",
    "values = [a,b,c,d,e,f]  # Corresponding values for each category\n",
    "\n",
    "# Plotting the bar graph\n",
    "plt.bar(categories, values)\n",
    "\n",
    "# Adding labels and title\n",
    "plt.xlabel('Ratings')\n",
    "plt.ylabel('Quantity')\n",
    "plt.title('Quantity of ratings 0-5')\n",
    "\n",
    "# Show the plot\n",
    "plt.tight_layout()\n",
    "plt.show()"
   ]
  },
  {
   "cell_type": "code",
   "execution_count": 50,
   "id": "61ef7930",
   "metadata": {},
   "outputs": [
    {
     "name": "stdout",
     "output_type": "stream",
     "text": [
      "       book_id     rating\n",
      "0          234        [5]\n",
      "1          254        [3]\n",
      "2          286     [5, 5]\n",
      "3          289        [5]\n",
      "4          290  [5, 3, 3]\n",
      "...        ...        ...\n",
      "4059  35612585        [0]\n",
      "4060  35783117        [4]\n",
      "4061  35889367        [5]\n",
      "4062  36247000        [0]\n",
      "4063  36365232        [2]\n",
      "\n",
      "[4064 rows x 2 columns]\n",
      "0            234\n",
      "1            254\n",
      "2            286\n",
      "3            289\n",
      "4            290\n",
      "          ...   \n",
      "4059    35612585\n",
      "4060    35783117\n",
      "4061    35889367\n",
      "4062    36247000\n",
      "4063    36365232\n",
      "Name: book_id, Length: 4064, dtype: int64\n"
     ]
    }
   ],
   "source": [
    "grouped_data = data.groupby('book_id')['rating'].apply(list).reset_index()\n",
    "\n",
    "# Display the grouped data\n",
    "print(grouped_data)\n"
   ]
  },
  {
   "cell_type": "code",
   "execution_count": 52,
   "id": "8929d1f3",
   "metadata": {},
   "outputs": [
    {
     "name": "stdout",
     "output_type": "stream",
     "text": [
      "       book_id    rating\n",
      "0          234  5.000000\n",
      "1          254  3.000000\n",
      "2          286  5.000000\n",
      "3          289  5.000000\n",
      "4          290  3.666667\n",
      "...        ...       ...\n",
      "4059  35612585  0.000000\n",
      "4060  35783117  4.000000\n",
      "4061  35889367  5.000000\n",
      "4062  36247000  0.000000\n",
      "4063  36365232  2.000000\n",
      "\n",
      "[4064 rows x 2 columns]\n"
     ]
    }
   ],
   "source": [
    "import pandas as pd\n",
    "import matplotlib.pyplot as plt\n",
    "\n",
    "# Group the data by 'Book' and calculate the average ratings for each book\n",
    "grouped_data = data.groupby('book_id')['rating'].mean().reset_index()\n",
    "\n",
    "print(grouped_data)"
   ]
  },
  {
   "cell_type": "code",
   "execution_count": 36,
   "id": "980a1727",
   "metadata": {},
   "outputs": [],
   "source": [
    "import pandas as pd\n",
    "\n",
    "# Read JSON file with multiple JSON objects in an array\n",
    "json_file_path = '/Users/kaileyfitzgerald/Desktop/ML and Data Sci/final projrct/goodreads.json'  # Replace with the path to your JSON file\n",
    "data = pd.read_json(json_file_path, lines=True)\n",
    "\n",
    "# Convert JSON data to CSV format and save as a CSV file\n",
    "csv_file_path = 'data.csv'  # Replace with the desired output CSV file path\n",
    "data.to_csv(csv_file_path, index=False)"
   ]
  },
  {
   "cell_type": "code",
   "execution_count": 37,
   "id": "46498006",
   "metadata": {},
   "outputs": [],
   "source": [
    "file_path = '/Users/kaileyfitzgerald/Desktop/ML and Data Sci/final projrct/data.csv'  # Replace 'your_file.csv' with the path to your CSV file\n",
    "books_metadata = pd.read_csv(file_path)\n",
    "item_dict ={}\n",
    "df = books_metadata[['book_id', 'title']].sort_values('book_id').reset_index()\n",
    "for i in range(df.shape[0]):\n",
    "    item_dict[(df.loc[i,'book_id'])] = df.loc[i,'title']"
   ]
  },
  {
   "cell_type": "code",
   "execution_count": 55,
   "id": "9c019408",
   "metadata": {},
   "outputs": [
    {
     "name": "stdout",
     "output_type": "stream",
     "text": [
      "Column Names:\n",
      "['isbn', 'text_reviews_count', 'series', 'country_code', 'language_code', 'popular_shelves', 'asin', 'is_ebook', 'average_rating', 'kindle_asin', 'similar_books', 'description', 'format', 'link', 'authors', 'publisher', 'num_pages', 'publication_day', 'isbn13', 'publication_month', 'edition_information', 'publication_year', 'url', 'image_url', 'book_id', 'ratings_count', 'work_id', 'title', 'title_without_series']\n"
     ]
    }
   ],
   "source": [
    "# Read the CSV file\n",
    "file_path = '/Users/kaileyfitzgerald/Desktop/ML and Data Sci/final projrct/data.csv'  # Replace 'your_file.csv' with the path to your CSV file\n",
    "with open(file_path, 'r') as file:\n",
    "    csv_reader = csv.reader(file)\n",
    "    # Get the column names from the first row\n",
    "    column_names = next(csv_reader)\n",
    "\n",
    "# Display the column names\n",
    "print(\"Column Names:\")\n",
    "print(column_names)"
   ]
  },
  {
   "cell_type": "code",
   "execution_count": 59,
   "id": "2b1a8560",
   "metadata": {},
   "outputs": [
    {
     "name": "stdout",
     "output_type": "stream",
     "text": [
      "['Vision of Sir Launfal and Other Poems' 'Fairy Tales: Dramolettes'\n",
      " \"Growltiger's Last Stand and Other Poems\" ...\n",
      " \"Take Out from the Writer's Café\"\n",
      " 'Sunbelly (Number 2 in the First Godine Poetry Chapbook Series)'\n",
      " \"The Children's Classic Poetry Collection\"]\n",
      "29727\n"
     ]
    }
   ],
   "source": [
    "column_name = 'title'\n",
    "\n",
    "# Get the unique values in the specified column\n",
    "unique_values_in_column = books_metadata[column_name].unique()\n",
    "total =0\n",
    "for i in unique_values_in_column:\n",
    "    total+=1\n",
    "# Display the unique values in the specified column\n",
    "print(unique_values_in_column)\n",
    "print(total)"
   ]
  },
  {
   "cell_type": "code",
   "execution_count": 66,
   "id": "9263a01f",
   "metadata": {},
   "outputs": [
    {
     "name": "stdout",
     "output_type": "stream",
     "text": [
      "72e53968245c2dadb6d4defbaa845eb1    267\n",
      "6e9880b05bf42fab331d9b47ed0aad3c    254\n",
      "e6e590954dd199a8a23f9b7619329636    119\n",
      "1a4eeeddcf390be6d3820fde01986abf    108\n",
      "ece1ea5c02078b01f596a6630db66ae7    101\n",
      "                                   ... \n",
      "8116262157bfddbd4268c655c07ddf09      1\n",
      "f5e0614b76f64a8e1f583336cf09c710      1\n",
      "d624019942fa3dec37be2b887c0e2ff8      1\n",
      "b5deff0b63488719ff3fea3103a0c7ad      1\n",
      "6265ccc18fcc8a5ecfcd50ba0528475c      1\n",
      "Name: user_id, Length: 1853, dtype: int64\n",
      "5.526713437668645\n"
     ]
    }
   ],
   "source": [
    "column_name = 'user_id'\n",
    "\n",
    "import pandas as pd\n",
    "\n",
    "# Read the CSV file\n",
    "file_path = '/Users/kaileyfitzgerald/Desktop/ML and Data Sci/final projrct/filtered_file.csv'  # Replace 'your_file.csv' with the path to your CSV file\n",
    "data = pd.read_csv(file_path)\n",
    "\n",
    "# Get the unique values from the specified column\n",
    "unique_values_in_column = data[column_name].unique()\n",
    "\n",
    "# Display the unique values from the specified column\n",
    "#print(unique_values_in_column)\n",
    "\n",
    "value_counts_in_column = data[column_name].value_counts()\n",
    "print(value_counts_in_column)\n",
    "\n",
    "average = sum(value_counts_in_column)/1853\n",
    "print(average)"
   ]
  },
  {
   "cell_type": "code",
   "execution_count": null,
   "id": "630f31e9",
   "metadata": {},
   "outputs": [],
   "source": []
  }
 ],
 "metadata": {
  "kernelspec": {
   "display_name": "Python 3",
   "language": "python",
   "name": "python3"
  },
  "language_info": {
   "codemirror_mode": {
    "name": "ipython",
    "version": 3
   },
   "file_extension": ".py",
   "mimetype": "text/x-python",
   "name": "python",
   "nbconvert_exporter": "python",
   "pygments_lexer": "ipython3",
   "version": "3.8.8"
  }
 },
 "nbformat": 4,
 "nbformat_minor": 5
}
